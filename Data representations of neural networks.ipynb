{
 "cells": [
  {
   "cell_type": "code",
   "execution_count": 1,
   "id": "ee697d1e",
   "metadata": {},
   "outputs": [],
   "source": [
    "import numpy as np"
   ]
  },
  {
   "cell_type": "markdown",
   "id": "c6cfee83",
   "metadata": {},
   "source": [
    "### Scalars (rank-0 tensors)\n",
    "\n",
    "A tensor that contains only one number is called a scalar (or scalar tensor, or rank-0 tensor, or 0D tensor)."
   ]
  },
  {
   "cell_type": "code",
   "execution_count": 3,
   "id": "a32b933c",
   "metadata": {},
   "outputs": [
    {
     "data": {
      "text/plain": [
       "array(12)"
      ]
     },
     "execution_count": 3,
     "metadata": {},
     "output_type": "execute_result"
    }
   ],
   "source": [
    "x = np.array(12)\n",
    "x"
   ]
  },
  {
   "cell_type": "code",
   "execution_count": 4,
   "id": "f7acdb24",
   "metadata": {},
   "outputs": [
    {
     "data": {
      "text/plain": [
       "0"
      ]
     },
     "execution_count": 4,
     "metadata": {},
     "output_type": "execute_result"
    }
   ],
   "source": [
    "x.ndim # You can display the number of axes of a NumPy tensor via the ndim attribute"
   ]
  },
  {
   "cell_type": "markdown",
   "id": "a808866e",
   "metadata": {},
   "source": [
    "### Vectors (rank-1 tensors)\n",
    "\n",
    "An array of numbers is called a vector, or rank-1 tensor, or 1D tensor. A rank-1 tensor have exactly one axis."
   ]
  },
  {
   "cell_type": "code",
   "execution_count": 5,
   "id": "61d20aa2",
   "metadata": {},
   "outputs": [
    {
     "data": {
      "text/plain": [
       "array([12,  3,  6, 14,  7])"
      ]
     },
     "execution_count": 5,
     "metadata": {},
     "output_type": "execute_result"
    }
   ],
   "source": [
    "x = np.array([12, 3, 6, 14, 7])\n",
    "x"
   ]
  },
  {
   "cell_type": "code",
   "execution_count": 6,
   "id": "abc75b67",
   "metadata": {},
   "outputs": [
    {
     "data": {
      "text/plain": [
       "1"
      ]
     },
     "execution_count": 6,
     "metadata": {},
     "output_type": "execute_result"
    }
   ],
   "source": [
    "x.ndim"
   ]
  },
  {
   "cell_type": "markdown",
   "id": "58d9865c",
   "metadata": {},
   "source": [
    "The vectors has five entries and so is called  a 5-dimensional vector."
   ]
  },
  {
   "cell_type": "markdown",
   "id": "db78db6c",
   "metadata": {},
   "source": [
    "### Matrices (rank-2 tensors)\n",
    "\n",
    "An array of vectors is a matrix, or rank-2 tensor, or 2D tensor.\n",
    "\n",
    "A matrix has two axis (often referred to as rows and columns)"
   ]
  },
  {
   "cell_type": "code",
   "execution_count": 7,
   "id": "776bc30c",
   "metadata": {},
   "outputs": [
    {
     "data": {
      "text/plain": [
       "array([[ 5, 78,  2, 34,  0],\n",
       "       [ 6, 79,  3, 35,  1],\n",
       "       [ 7, 80,  4, 36,  2]])"
      ]
     },
     "execution_count": 7,
     "metadata": {},
     "output_type": "execute_result"
    }
   ],
   "source": [
    "x = np.array([[5, 78, 2, 34, 0],\n",
    "              [6, 79, 3, 35, 1],\n",
    "              [7, 80, 4, 36, 2]])\n",
    "x"
   ]
  },
  {
   "cell_type": "code",
   "execution_count": 8,
   "id": "d737c7a4",
   "metadata": {},
   "outputs": [
    {
     "data": {
      "text/plain": [
       "2"
      ]
     },
     "execution_count": 8,
     "metadata": {},
     "output_type": "execute_result"
    }
   ],
   "source": [
    "x.ndim"
   ]
  },
  {
   "cell_type": "markdown",
   "id": "9df9ef25",
   "metadata": {},
   "source": [
    "### Rank-3 and higher tensors\n",
    "\n",
    "If you pack such matrices in a new array, you obtain a rank-3 tensor (or 3D tensor), which you can visually interpret as a cube of numbers."
   ]
  },
  {
   "cell_type": "code",
   "execution_count": 9,
   "id": "540a9062",
   "metadata": {},
   "outputs": [
    {
     "data": {
      "text/plain": [
       "array([[[ 5, 78,  2, 34,  0],\n",
       "        [ 6, 79,  3, 35,  1],\n",
       "        [ 7, 80,  4, 36,  2]],\n",
       "\n",
       "       [[ 5, 78,  2, 34,  0],\n",
       "        [ 6, 79,  3, 35,  1],\n",
       "        [ 7, 80,  4, 36,  2]],\n",
       "\n",
       "       [[ 5, 78,  2, 34,  0],\n",
       "        [ 6, 79,  3, 35,  1],\n",
       "        [ 7, 80,  4, 36,  2]]])"
      ]
     },
     "execution_count": 9,
     "metadata": {},
     "output_type": "execute_result"
    }
   ],
   "source": [
    "x = np.array([[[5, 78, 2, 34, 0],\n",
    "               [6, 79, 3, 35, 1],\n",
    "               [7, 80, 4, 36, 2]],\n",
    "              [[5, 78, 2, 34, 0],\n",
    "               [6, 79, 3, 35, 1],\n",
    "               [7, 80, 4, 36, 2]],\n",
    "              [[5, 78, 2, 34, 0],\n",
    "               [6, 79, 3, 35, 1],\n",
    "               [7, 80, 4, 36, 2]]])\n",
    "x"
   ]
  },
  {
   "cell_type": "code",
   "execution_count": 10,
   "id": "0837e575",
   "metadata": {},
   "outputs": [
    {
     "data": {
      "text/plain": [
       "3"
      ]
     },
     "execution_count": 10,
     "metadata": {},
     "output_type": "execute_result"
    }
   ],
   "source": [
    "x.ndim"
   ]
  },
  {
   "cell_type": "markdown",
   "id": "e88bcccd",
   "metadata": {},
   "source": [
    "By packing rank-3 tensors in an array, you can create a rank-4 tensor, and so on. \n",
    "\n",
    "In deep learning, you'll generally manipulate tensors with ranks 0 to 4, although you may go up to 5 if you process video data."
   ]
  },
  {
   "cell_type": "markdown",
   "id": "9a9a7d55",
   "metadata": {},
   "source": [
    "### Key attributes"
   ]
  },
  {
   "cell_type": "markdown",
   "id": "1032f871",
   "metadata": {},
   "source": [
    "- A tensor is defined by three attributes:\n",
    "\t- Number of axes (rank) - For instance, a rank-3 tensor has 3 axes and so on. Also called the tensor's ndim in NumPy and TensorFlow.\n",
    "\t- Shape - This is a tuple of integers that describes how many dimensions the tensor has along each axis.\n",
    "\t- Data type - The type of data contained in the tensor. Could be float16, float32, float64, uint8 and so on."
   ]
  },
  {
   "cell_type": "markdown",
   "id": "4664347a",
   "metadata": {},
   "source": [
    "#### From previous MNIST example"
   ]
  },
  {
   "cell_type": "code",
   "execution_count": 3,
   "id": "68180f86",
   "metadata": {},
   "outputs": [],
   "source": [
    "from tensorflow.keras.datasets import mnist\n",
    "(train_images, train_labels), (test_images, test_labels) = mnist.load_data()"
   ]
  },
  {
   "cell_type": "code",
   "execution_count": 4,
   "id": "3d4998be",
   "metadata": {},
   "outputs": [
    {
     "data": {
      "text/plain": [
       "3"
      ]
     },
     "execution_count": 4,
     "metadata": {},
     "output_type": "execute_result"
    }
   ],
   "source": [
    "train_images.ndim # number of axes"
   ]
  },
  {
   "cell_type": "code",
   "execution_count": 5,
   "id": "dec4c413",
   "metadata": {},
   "outputs": [
    {
     "data": {
      "text/plain": [
       "(60000, 28, 28)"
      ]
     },
     "execution_count": 5,
     "metadata": {},
     "output_type": "execute_result"
    }
   ],
   "source": [
    "train_images.shape # in terms of shape"
   ]
  },
  {
   "cell_type": "code",
   "execution_count": 8,
   "id": "c24eeefd",
   "metadata": {},
   "outputs": [
    {
     "data": {
      "text/plain": [
       "dtype('uint8')"
      ]
     },
     "execution_count": 8,
     "metadata": {},
     "output_type": "execute_result"
    }
   ],
   "source": [
    "train_images.dtype # the data type"
   ]
  },
  {
   "cell_type": "markdown",
   "id": "4e52f459",
   "metadata": {},
   "source": [
    "- So what we have here is a rank-3 tensor of 8-bit integers. \n",
    "- More precisely, it's an array of 60,000 matrices of 28x28 integers.\n",
    "- Each such matrix is a grayscale image, with a coefficients between 0 and 255."
   ]
  },
  {
   "cell_type": "markdown",
   "id": "6b31cd72",
   "metadata": {},
   "source": [
    "Displaying the fourth digit"
   ]
  },
  {
   "cell_type": "code",
   "execution_count": 10,
   "id": "f003d0e7",
   "metadata": {},
   "outputs": [
    {
     "data": {
      "image/png": "[encoded data removed]",
      "text/plain": [
       "<Figure size 432x288 with 1 Axes>"
      ]
     },
     "metadata": {
      "needs_background": "light"
     },
     "output_type": "display_data"
    }
   ],
   "source": [
    "import matplotlib.pyplot as plt\n",
    "digit = train_images[4]\n",
    "plt.imshow(digit, cmap=plt.cm.binary)\n",
    "plt.show()"
   ]
  },
  {
   "cell_type": "code",
   "execution_count": 11,
   "id": "47db3d44",
   "metadata": {},
   "outputs": [
    {
     "data": {
      "text/plain": [
       "9"
      ]
     },
     "execution_count": 11,
     "metadata": {},
     "output_type": "execute_result"
    }
   ],
   "source": [
    "train_labels[4]"
   ]
  },
  {
   "cell_type": "markdown",
   "id": "caa1ff6e",
   "metadata": {},
   "source": [
    "### Manipulating tensors in NumPy"
   ]
  },
  {
   "cell_type": "code",
   "execution_count": 12,
   "id": "c0efb092",
   "metadata": {},
   "outputs": [
    {
     "data": {
      "text/plain": [
       "(90, 28, 28)"
      ]
     },
     "execution_count": 12,
     "metadata": {},
     "output_type": "execute_result"
    }
   ],
   "source": [
    "my_slice = train_images[10:100] # selects digit 10 to 99\n",
    "my_slice.shape"
   ]
  },
  {
   "cell_type": "markdown",
   "id": "939fa3ce",
   "metadata": {},
   "source": [
    "In general, you may select slices between any two indices along each tensor axis. For instance, in order to select 14x14 pixels in the bottom-right corner of all images, we would do this:"
   ]
  },
  {
   "cell_type": "code",
   "execution_count": 14,
   "id": "a1d139da",
   "metadata": {},
   "outputs": [],
   "source": [
    "my_slice = train_images[:,14:,14:]"
   ]
  },
  {
   "cell_type": "markdown",
   "id": "035de843",
   "metadata": {},
   "source": [
    "### The notion of data batches"
   ]
  },
  {
   "cell_type": "markdown",
   "id": "eca59b4d",
   "metadata": {},
   "source": [
    "- In general, the first axis (axis 0, because indexing starts at 0) in all data tensors  is the samples axis (sometimes called the sample dimensions).\n",
    "- Deep learning models don't process an entire dataset at once, rather they break the data into small batches.\n",
    "- Here's one batch of our MNIST dataset"
   ]
  },
  {
   "cell_type": "code",
   "execution_count": 15,
   "id": "4271ff9f",
   "metadata": {},
   "outputs": [],
   "source": [
    "batch = train_images[:128]"
   ]
  },
  {
   "cell_type": "markdown",
   "id": "f9ba10c1",
   "metadata": {},
   "source": [
    "When considering such a batch tensor, the first axis (axis 0) is called the batch axis or batch dimensions."
   ]
  },
  {
   "cell_type": "code",
   "execution_count": null,
   "id": "a79b9397",
   "metadata": {},
   "outputs": [],
   "source": []
  }
 ],
 "metadata": {
  "kernelspec": {
   "display_name": "Python 3",
   "language": "python",
   "name": "python3"
  },
  "language_info": {
   "codemirror_mode": {
    "name": "ipython",
    "version": 3
   },
   "file_extension": ".py",
   "mimetype": "text/x-python",
   "name": "python",
   "nbconvert_exporter": "python",
   "pygments_lexer": "ipython3",
   "version": "3.8.8"
  }
 },
 "nbformat": 4,
 "nbformat_minor": 5
}
